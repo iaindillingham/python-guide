{
 "cells": [
  {
   "cell_type": "code",
   "execution_count": 1,
   "metadata": {},
   "outputs": [],
   "source": [
    "import collections\n",
    "import itertools\n",
    "\n",
    "import pandas"
   ]
  },
  {
   "cell_type": "code",
   "execution_count": 2,
   "metadata": {},
   "outputs": [],
   "source": [
    "# a series of every date in 2022\n",
    "s = pandas.Series(pandas.date_range(\"2022\", \"2023\", closed=\"left\"), name=\"date\")"
   ]
  },
  {
   "cell_type": "code",
   "execution_count": 3,
   "metadata": {},
   "outputs": [
    {
     "data": {
      "text/plain": [
       "0   2022-01-01\n",
       "1   2022-01-02\n",
       "2   2022-01-03\n",
       "3   2022-01-04\n",
       "4   2022-01-05\n",
       "Name: date, dtype: datetime64[ns]"
      ]
     },
     "execution_count": 3,
     "metadata": {},
     "output_type": "execute_result"
    }
   ],
   "source": [
    "s.head()"
   ]
  },
  {
   "cell_type": "code",
   "execution_count": 4,
   "metadata": {},
   "outputs": [
    {
     "data": {
      "text/plain": [
       "360   2022-12-27\n",
       "361   2022-12-28\n",
       "362   2022-12-29\n",
       "363   2022-12-30\n",
       "364   2022-12-31\n",
       "Name: date, dtype: datetime64[ns]"
      ]
     },
     "execution_count": 4,
     "metadata": {},
     "output_type": "execute_result"
    }
   ],
   "source": [
    "s.tail()"
   ]
  },
  {
   "cell_type": "code",
   "execution_count": 5,
   "metadata": {},
   "outputs": [],
   "source": [
    "# we want a dict that maps from month index to season name"
   ]
  },
  {
   "cell_type": "code",
   "execution_count": 6,
   "metadata": {},
   "outputs": [],
   "source": [
    "# approach 1\n",
    "# easier to reason about than the other approaches, some repetition\n",
    "month_season = {\n",
    "    1: \"Winter\",\n",
    "    2: \"Winter\",\n",
    "    3: \"Spring\",\n",
    "    4: \"Spring\",\n",
    "    5: \"Spring\",\n",
    "    6: \"Summer\",\n",
    "    7: \"Summer\",\n",
    "    8: \"Summer\",\n",
    "    9: \"Autumn\",\n",
    "    10: \"Autumn\",\n",
    "    11: \"Autumn\",\n",
    "    12: \"Winter\",\n",
    "}"
   ]
  },
  {
   "cell_type": "code",
   "execution_count": 7,
   "metadata": {},
   "outputs": [
    {
     "data": {
      "text/plain": [
       "{1: 'Winter',\n",
       " 2: 'Winter',\n",
       " 3: 'Spring',\n",
       " 4: 'Spring',\n",
       " 5: 'Spring',\n",
       " 6: 'Summer',\n",
       " 7: 'Summer',\n",
       " 8: 'Summer',\n",
       " 9: 'Autumn',\n",
       " 10: 'Autumn',\n",
       " 11: 'Autumn',\n",
       " 12: 'Winter'}"
      ]
     },
     "execution_count": 7,
     "metadata": {},
     "output_type": "execute_result"
    }
   ],
   "source": [
    "month_season"
   ]
  },
  {
   "cell_type": "code",
   "execution_count": 8,
   "metadata": {},
   "outputs": [],
   "source": [
    "# approach 2\n",
    "# harder to reason about than the previous approach, no repetition\n",
    "months_season = {\n",
    "    (3, 4, 5): \"Spring\",\n",
    "    (6, 7, 8): \"Summer\",\n",
    "    (9, 10, 11): \"Autumn\",\n",
    "    (12, 1, 2): \"Winter\",\n",
    "}"
   ]
  },
  {
   "cell_type": "code",
   "execution_count": 9,
   "metadata": {},
   "outputs": [],
   "source": [
    "month_season = dict(\n",
    "    itertools.chain.from_iterable(\n",
    "        [\n",
    "            [(month, season) for month in months]\n",
    "            for months, season in months_season.items()\n",
    "        ]\n",
    "    )\n",
    ")"
   ]
  },
  {
   "cell_type": "code",
   "execution_count": 10,
   "metadata": {},
   "outputs": [
    {
     "data": {
      "text/plain": [
       "{3: 'Spring',\n",
       " 4: 'Spring',\n",
       " 5: 'Spring',\n",
       " 6: 'Summer',\n",
       " 7: 'Summer',\n",
       " 8: 'Summer',\n",
       " 9: 'Autumn',\n",
       " 10: 'Autumn',\n",
       " 11: 'Autumn',\n",
       " 12: 'Winter',\n",
       " 1: 'Winter',\n",
       " 2: 'Winter'}"
      ]
     },
     "execution_count": 10,
     "metadata": {},
     "output_type": "execute_result"
    }
   ],
   "source": [
    "month_season"
   ]
  },
  {
   "cell_type": "code",
   "execution_count": 11,
   "metadata": {},
   "outputs": [],
   "source": [
    "# approach 3\n",
    "# harder to reason about than the previous approach, no repetition\n",
    "d = collections.deque(\n",
    "    itertools.chain.from_iterable(\n",
    "        [[x] * 3 for x in [\"Spring\", \"Summer\", \"Autumn\", \"Winter\"]]\n",
    "    )\n",
    ")"
   ]
  },
  {
   "cell_type": "code",
   "execution_count": 12,
   "metadata": {},
   "outputs": [],
   "source": [
    "d.rotate(2)"
   ]
  },
  {
   "cell_type": "code",
   "execution_count": 13,
   "metadata": {},
   "outputs": [],
   "source": [
    "month_season = {x + 1: i for x, i in zip(range(len(d)), d)}"
   ]
  },
  {
   "cell_type": "code",
   "execution_count": 14,
   "metadata": {},
   "outputs": [
    {
     "data": {
      "text/plain": [
       "{1: 'Winter',\n",
       " 2: 'Winter',\n",
       " 3: 'Spring',\n",
       " 4: 'Spring',\n",
       " 5: 'Spring',\n",
       " 6: 'Summer',\n",
       " 7: 'Summer',\n",
       " 8: 'Summer',\n",
       " 9: 'Autumn',\n",
       " 10: 'Autumn',\n",
       " 11: 'Autumn',\n",
       " 12: 'Winter'}"
      ]
     },
     "execution_count": 14,
     "metadata": {},
     "output_type": "execute_result"
    }
   ],
   "source": [
    "month_season"
   ]
  },
  {
   "cell_type": "code",
   "execution_count": 15,
   "metadata": {},
   "outputs": [
    {
     "data": {
      "text/plain": [
       "34     Winter\n",
       "273    Autumn\n",
       "166    Summer\n",
       "212    Summer\n",
       "43     Winter\n",
       "142    Spring\n",
       "206    Summer\n",
       "157    Summer\n",
       "40     Winter\n",
       "148    Spring\n",
       "Name: date, dtype: object"
      ]
     },
     "execution_count": 15,
     "metadata": {},
     "output_type": "execute_result"
    }
   ],
   "source": [
    "# substitute month index for season name\n",
    "s.dt.month.map(month_season).sample(10)"
   ]
  }
 ],
 "metadata": {
  "kernelspec": {
   "display_name": "Python 3",
   "language": "python",
   "name": "python3"
  },
  "language_info": {
   "codemirror_mode": {
    "name": "ipython",
    "version": 3
   },
   "file_extension": ".py",
   "mimetype": "text/x-python",
   "name": "python",
   "nbconvert_exporter": "python",
   "pygments_lexer": "ipython3",
   "version": "3.8.10"
  }
 },
 "nbformat": 4,
 "nbformat_minor": 4
}
